{
 "cells": [
  {
   "cell_type": "code",
   "execution_count": 1,
   "metadata": {},
   "outputs": [],
   "source": [
    "import os\n",
    "import shutil\n",
    "import random\n",
    "\n",
    "img_path = \"/Users/derek/Desktop/cv-training/datasets/DroneTrainDataset/Drone_TrainSet/\"\n",
    "images = os.listdir(img_path)\n",
    "\n",
    "for i in range(100):\n",
    "    img = random.choice(images)\n",
    "    shutil.copy(img_path + img, \"dataset\")\n",
    "    images.remove(img)"
   ]
  }
 ],
 "metadata": {
  "kernelspec": {
   "display_name": ".venv",
   "language": "python",
   "name": "python3"
  },
  "language_info": {
   "codemirror_mode": {
    "name": "ipython",
    "version": 3
   },
   "file_extension": ".py",
   "mimetype": "text/x-python",
   "name": "python",
   "nbconvert_exporter": "python",
   "pygments_lexer": "ipython3",
   "version": "3.10.14"
  }
 },
 "nbformat": 4,
 "nbformat_minor": 2
}
